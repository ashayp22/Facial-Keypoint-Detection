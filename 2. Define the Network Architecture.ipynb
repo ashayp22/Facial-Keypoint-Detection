{
 "cells": [
  {
   "cell_type": "markdown",
   "metadata": {},
   "source": [
    "## Define the Convolutional Neural Network\n",
    "\n",
    "After you've looked at the data you're working with and, in this case, know the shapes of the images and of the keypoints, you are ready to define a convolutional neural network that can *learn* from this data.\n",
    "\n",
    "In this notebook and in `models.py`, you will:\n",
    "1. Define a CNN with images as input and keypoints as output\n",
    "2. Construct the transformed FaceKeypointsDataset, just as before\n",
    "3. Train the CNN on the training data, tracking loss\n",
    "4. See how the trained model performs on test data\n",
    "5. If necessary, modify the CNN structure and model hyperparameters, so that it performs *well* **\\***\n",
    "\n",
    "**\\*** What does *well* mean?\n",
    "\n",
    "\"Well\" means that the model's loss decreases during training **and**, when applied to test image data, the model produces keypoints that closely match the true keypoints of each face. And you'll see examples of this later in the notebook.\n",
    "\n",
    "---\n"
   ]
  },
  {
   "cell_type": "markdown",
   "metadata": {},
   "source": [
    "## CNN Architecture\n",
    "\n",
    "Recall that CNN's are defined by a few types of layers:\n",
    "* Convolutional layers\n",
    "* Maxpooling layers\n",
    "* Fully-connected layers\n",
    "\n",
    "You are required to use the above layers and encouraged to add multiple convolutional layers and things like dropout layers that may prevent overfitting. You are also encouraged to look at literature on keypoint detection, such as [this paper](https://arxiv.org/pdf/1710.00977.pdf), to help you determine the structure of your network.\n",
    "\n",
    "\n",
    "### TODO: Define your model in the provided file `models.py` file\n",
    "\n",
    "This file is mostly empty but contains the expected name and some TODO's for creating your model.\n",
    "\n",
    "---"
   ]
  },
  {
   "cell_type": "markdown",
   "metadata": {},
   "source": [
    "## PyTorch Neural Nets\n",
    "\n",
    "To define a neural network in PyTorch, you define the layers of a model in the function `__init__` and define the feedforward behavior of a network that employs those initialized layers in the function `forward`, which takes in an input image tensor, `x`. The structure of this Net class is shown below and left for you to fill in.\n",
    "\n",
    "Note: During training, PyTorch will be able to perform backpropagation by keeping track of the network's feedforward behavior and using autograd to calculate the update to the weights in the network.\n",
    "\n",
    "#### Define the Layers in ` __init__`\n",
    "As a reminder, a conv/pool layer may be defined like this (in `__init__`):\n",
    "```\n",
    "# 1 input image channel (for grayscale images), 32 output channels/feature maps, 3x3 square convolution kernel\n",
    "self.conv1 = nn.Conv2d(1, 32, 3)\n",
    "\n",
    "# maxpool that uses a square window of kernel_size=2, stride=2\n",
    "self.pool = nn.MaxPool2d(2, 2)      \n",
    "```\n",
    "\n",
    "#### Refer to Layers in `forward`\n",
    "Then referred to in the `forward` function like this, in which the conv1 layer has a ReLu activation applied to it before maxpooling is applied:\n",
    "```\n",
    "x = self.pool(F.relu(self.conv1(x)))\n",
    "```\n",
    "\n",
    "Best practice is to place any layers whose weights will change during the training process in `__init__` and refer to them in the `forward` function; any layers or functions that always behave in the same way, such as a pre-defined activation function, should appear *only* in the `forward` function."
   ]
  },
  {
   "cell_type": "markdown",
   "metadata": {},
   "source": [
    "#### Why models.py\n",
    "\n",
    "You are tasked with defining the network in the `models.py` file so that any models you define can be saved and loaded by name in different notebooks in this project directory. For example, by defining a CNN class called `Net` in `models.py`, you can then create that same architecture in this and other notebooks by simply importing the class and instantiating a model:\n",
    "```\n",
    "    from models import Net\n",
    "    net = Net()\n",
    "```"
   ]
  },
  {
   "cell_type": "code",
   "execution_count": 1,
   "metadata": {},
   "outputs": [
    {
     "name": "stdout",
     "output_type": "stream",
     "text": [
      "mkdir: cannot create directory ‘/data’: File exists\n",
      "--2020-06-13 16:32:06--  https://s3.amazonaws.com/video.udacity-data.com/topher/2018/May/5aea1b91_train-test-data/train-test-data.zip\n",
      "Resolving s3.amazonaws.com (s3.amazonaws.com)... 52.216.100.197\n",
      "Connecting to s3.amazonaws.com (s3.amazonaws.com)|52.216.100.197|:443... connected.\n",
      "HTTP request sent, awaiting response... 200 OK\n",
      "Length: 338613624 (323M) [application/zip]\n",
      "Saving to: ‘/data/train-test-data.zip.3’\n",
      "\n",
      "train-test-data.zip 100%[===================>] 322.93M  67.3MB/s    in 4.7s    \n",
      "\n",
      "2020-06-13 16:32:11 (68.3 MB/s) - ‘/data/train-test-data.zip.3’ saved [338613624/338613624]\n",
      "\n",
      "Archive:  /data/train-test-data.zip\n"
     ]
    }
   ],
   "source": [
    "# load the data if you need to; if you have already loaded the data, you may comment this cell out\n",
    "# -- DO NOT CHANGE THIS CELL -- #\n",
    "!mkdir /data\n",
    "!wget -P /data/ https://s3.amazonaws.com/video.udacity-data.com/topher/2018/May/5aea1b91_train-test-data/train-test-data.zip\n",
    "!unzip -n /data/train-test-data.zip -d /data"
   ]
  },
  {
   "cell_type": "markdown",
   "metadata": {},
   "source": [
    "<div class=\"alert alert-info\">**Note:** Workspaces automatically close connections after 30 minutes of inactivity (including inactivity while training!). Use the code snippet below to keep your workspace alive during training. (The active_session context manager is imported below.)\n",
    "</div>\n",
    "```\n",
    "from workspace_utils import active_session\n",
    "\n",
    "with active_session():\n",
    "    train_model(num_epochs)\n",
    "```\n"
   ]
  },
  {
   "cell_type": "code",
   "execution_count": 2,
   "metadata": {},
   "outputs": [],
   "source": [
    "# import the usual resources\n",
    "import matplotlib.pyplot as plt\n",
    "import numpy as np\n",
    "\n",
    "# import utilities to keep workspaces alive during model training\n",
    "from workspace_utils import active_session\n",
    "\n",
    "# watch for any changes in model.py, if it changes, re-load it automatically\n",
    "%load_ext autoreload\n",
    "%autoreload 2"
   ]
  },
  {
   "cell_type": "code",
   "execution_count": 3,
   "metadata": {},
   "outputs": [
    {
     "name": "stdout",
     "output_type": "stream",
     "text": [
      "Net(\n",
      "  (maxpool): MaxPool2d(kernel_size=2, stride=2, padding=0, dilation=1, ceil_mode=False)\n",
      "  (dropout): Dropout(p=0.2)\n",
      "  (conv1): Conv2d(1, 32, kernel_size=(5, 5), stride=(1, 1))\n",
      "  (conv2): Conv2d(32, 64, kernel_size=(3, 3), stride=(1, 1))\n",
      "  (conv3): Conv2d(64, 128, kernel_size=(3, 3), stride=(1, 1))\n",
      "  (fc1): Linear(in_features=86528, out_features=136, bias=True)\n",
      ")\n"
     ]
    }
   ],
   "source": [
    "## TODO: Define the Net in models.py\n",
    "\n",
    "import torch\n",
    "import torch.nn as nn\n",
    "import torch.nn.functional as F\n",
    "\n",
    "## TODO: Once you've define the network, you can instantiate it\n",
    "# one example conv layer has been provided for you\n",
    "from models import Net\n",
    "\n",
    "net = Net()\n",
    "print(net)"
   ]
  },
  {
   "cell_type": "markdown",
   "metadata": {
    "collapsed": true
   },
   "source": [
    "## Transform the dataset \n",
    "\n",
    "To prepare for training, create a transformed dataset of images and keypoints.\n",
    "\n",
    "### TODO: Define a data transform\n",
    "\n",
    "In PyTorch, a convolutional neural network expects a torch image of a consistent size as input. For efficient training, and so your model's loss does not blow up during training, it is also suggested that you normalize the input images and keypoints. The necessary transforms have been defined in `data_load.py` and you **do not** need to modify these; take a look at this file (you'll see the same transforms that were defined and applied in Notebook 1).\n",
    "\n",
    "To define the data transform below, use a [composition](http://pytorch.org/tutorials/beginner/data_loading_tutorial.html#compose-transforms) of:\n",
    "1. Rescaling and/or cropping the data, such that you are left with a square image (the suggested size is 224x224px)\n",
    "2. Normalizing the images and keypoints; turning each RGB image into a grayscale image with a color range of [0, 1] and transforming the given keypoints into a range of [-1, 1]\n",
    "3. Turning these images and keypoints into Tensors\n",
    "\n",
    "These transformations have been defined in `data_load.py`, but it's up to you to call them and create a `data_transform` below. **This transform will be applied to the training data and, later, the test data**. It will change how you go about displaying these images and keypoints, but these steps are essential for efficient training.\n",
    "\n",
    "As a note, should you want to perform data augmentation (which is optional in this project), and randomly rotate or shift these images, a square image size will be useful; rotating a 224x224 image by 90 degrees will result in the same shape of output."
   ]
  },
  {
   "cell_type": "code",
   "execution_count": 4,
   "metadata": {},
   "outputs": [],
   "source": [
    "from torch.utils.data import Dataset, DataLoader\n",
    "from torchvision import transforms, utils\n",
    "\n",
    "# the dataset we created in Notebook 1 is copied in the helper file `data_load.py`\n",
    "from data_load import FacialKeypointsDataset\n",
    "# the transforms we defined in Notebook 1 are in the helper file `data_load.py`\n",
    "from data_load import Rescale, RandomCrop, Normalize, ToTensor\n",
    "\n",
    "\n",
    "## TODO: define the data_transform using transforms.Compose([all tx's, . , .])\n",
    "# order matters! i.e. rescaling should come before a smaller crop\n",
    "data_transform = transforms.Compose([Rescale((224, 224)), Normalize(), ToTensor()])\n",
    "\n",
    "# testing that you've defined a transform\n",
    "assert(data_transform is not None), 'Define a data_transform'"
   ]
  },
  {
   "cell_type": "code",
   "execution_count": 5,
   "metadata": {},
   "outputs": [
    {
     "name": "stdout",
     "output_type": "stream",
     "text": [
      "Number of images:  3462\n",
      "0 torch.Size([1, 224, 224]) torch.Size([68, 2])\n",
      "tensor([[-0.8545,  0.2867],\n",
      "        [-0.8036,  0.4733],\n",
      "        [-0.7527,  0.5667],\n",
      "        [-0.6509,  0.7767],\n",
      "        [-0.5745,  0.9167],\n",
      "        [-0.4218,  1.0333],\n",
      "        [-0.3200,  1.1267],\n",
      "        [-0.1418,  1.1733],\n",
      "        [ 0.0618,  1.2433],\n",
      "        [ 0.3418,  1.1267],\n",
      "        [ 0.4436,  1.0333],\n",
      "        [ 0.4945,  0.9400],\n",
      "        [ 0.5964,  0.8000],\n",
      "        [ 0.5964,  0.5900],\n",
      "        [ 0.6473,  0.4500],\n",
      "        [ 0.6473,  0.3100],\n",
      "        [ 0.5964,  0.1000],\n",
      "        [-0.7018,  0.0767],\n",
      "        [-0.5745,  0.0300],\n",
      "        [-0.4727,  0.0300],\n",
      "        [-0.3709,  0.0300],\n",
      "        [-0.2691,  0.0300],\n",
      "        [ 0.1127, -0.0167],\n",
      "        [ 0.2145, -0.0633],\n",
      "        [ 0.3418, -0.1100],\n",
      "        [ 0.4436, -0.1100],\n",
      "        [ 0.5455, -0.0400],\n",
      "        [-0.0400,  0.1467],\n",
      "        [ 0.0109,  0.2867],\n",
      "        [ 0.0109,  0.3800],\n",
      "        [ 0.0109,  0.4967],\n",
      "        [-0.1418,  0.5433],\n",
      "        [-0.0909,  0.5433],\n",
      "        [ 0.0109,  0.5900],\n",
      "        [ 0.0618,  0.5433],\n",
      "        [ 0.1127,  0.5433],\n",
      "        [-0.5236,  0.1933],\n",
      "        [-0.4218,  0.1467],\n",
      "        [-0.3709,  0.1467],\n",
      "        [-0.2691,  0.1467],\n",
      "        [-0.3200,  0.1933],\n",
      "        [-0.4218,  0.1933],\n",
      "        [ 0.1636,  0.1467],\n",
      "        [ 0.2145,  0.1000],\n",
      "        [ 0.3418,  0.1000],\n",
      "        [ 0.3927,  0.1000],\n",
      "        [ 0.3418,  0.1467],\n",
      "        [ 0.2145,  0.1467],\n",
      "        [-0.2691,  0.7767],\n",
      "        [-0.1418,  0.7300],\n",
      "        [-0.0400,  0.6833],\n",
      "        [ 0.0109,  0.7300],\n",
      "        [ 0.0618,  0.6833],\n",
      "        [ 0.1636,  0.7300],\n",
      "        [ 0.2909,  0.7300],\n",
      "        [ 0.2145,  0.8467],\n",
      "        [ 0.1636,  0.8933],\n",
      "        [ 0.0618,  0.8933],\n",
      "        [-0.0400,  0.8933],\n",
      "        [-0.1418,  0.8233],\n",
      "        [-0.2182,  0.7767],\n",
      "        [-0.0400,  0.7767],\n",
      "        [ 0.0109,  0.7767],\n",
      "        [ 0.1127,  0.7767],\n",
      "        [ 0.2909,  0.7300],\n",
      "        [ 0.1127,  0.7767],\n",
      "        [ 0.0618,  0.8467],\n",
      "        [-0.0400,  0.8467]], dtype=torch.float64)\n",
      "1 torch.Size([1, 224, 224]) torch.Size([68, 2])\n",
      "tensor([[-0.8301, -0.1029],\n",
      "        [-0.7730,  0.0800],\n",
      "        [-0.7159,  0.2857],\n",
      "        [-0.6589,  0.4686],\n",
      "        [-0.5447,  0.7200],\n",
      "        [-0.3450,  0.9714],\n",
      "        [-0.1738,  1.1086],\n",
      "        [ 0.0831,  1.2229],\n",
      "        [ 0.4255,  1.2686],\n",
      "        [ 0.7394,  1.1314],\n",
      "        [ 0.9106,  0.9943],\n",
      "        [ 1.0532,  0.8343],\n",
      "        [ 1.1103,  0.6057],\n",
      "        [ 1.1674,  0.4000],\n",
      "        [ 1.1674,  0.2171],\n",
      "        [ 1.1674,  0.0114],\n",
      "        [ 1.1674, -0.2171],\n",
      "        [-0.5447, -0.1029],\n",
      "        [-0.4020, -0.1486],\n",
      "        [-0.2308, -0.1486],\n",
      "        [-0.1167, -0.1486],\n",
      "        [-0.0025, -0.1029],\n",
      "        [ 0.4825, -0.1486],\n",
      "        [ 0.6252, -0.1943],\n",
      "        [ 0.7394, -0.1943],\n",
      "        [ 0.9106, -0.2400],\n",
      "        [ 0.9676, -0.2400],\n",
      "        [ 0.3113,  0.1029],\n",
      "        [ 0.3684,  0.2400],\n",
      "        [ 0.3684,  0.4457],\n",
      "        [ 0.3684,  0.5371],\n",
      "        [ 0.1972,  0.5829],\n",
      "        [ 0.2543,  0.5829],\n",
      "        [ 0.3684,  0.6286],\n",
      "        [ 0.4255,  0.5829],\n",
      "        [ 0.4825,  0.5371],\n",
      "        [-0.3450,  0.0343],\n",
      "        [-0.2308,  0.0571],\n",
      "        [-0.1167,  0.0571],\n",
      "        [-0.0025,  0.0571],\n",
      "        [-0.1167,  0.1029],\n",
      "        [-0.2308,  0.1029],\n",
      "        [ 0.4825,  0.0114],\n",
      "        [ 0.6252, -0.0343],\n",
      "        [ 0.7394, -0.0343],\n",
      "        [ 0.8535, -0.0343],\n",
      "        [ 0.7394,  0.0114],\n",
      "        [ 0.6252,  0.0114],\n",
      "        [-0.0025,  0.7886],\n",
      "        [ 0.1401,  0.7886],\n",
      "        [ 0.3113,  0.7429],\n",
      "        [ 0.3684,  0.7429],\n",
      "        [ 0.4255,  0.7429],\n",
      "        [ 0.5682,  0.7429],\n",
      "        [ 0.6823,  0.7429],\n",
      "        [ 0.5682,  0.8343],\n",
      "        [ 0.4825,  0.8800],\n",
      "        [ 0.3684,  0.8800],\n",
      "        [ 0.2543,  0.8800],\n",
      "        [ 0.1401,  0.8343],\n",
      "        [-0.0025,  0.7886],\n",
      "        [ 0.2543,  0.7886],\n",
      "        [ 0.3684,  0.7886],\n",
      "        [ 0.4255,  0.7886],\n",
      "        [ 0.6823,  0.7429],\n",
      "        [ 0.4255,  0.7886],\n",
      "        [ 0.3684,  0.7886],\n",
      "        [ 0.2543,  0.7886]], dtype=torch.float64)\n",
      "2 torch.Size([1, 224, 224]) torch.Size([68, 2])\n",
      "tensor([[-0.5242, -0.3731],\n",
      "        [-0.5242, -0.1844],\n",
      "        [-0.5242,  0.0278],\n",
      "        [-0.5242,  0.2164],\n",
      "        [-0.4715,  0.4286],\n",
      "        [-0.4188,  0.6173],\n",
      "        [-0.3661,  0.7352],\n",
      "        [-0.2344,  0.8766],\n",
      "        [-0.0235,  0.9945],\n",
      "        [ 0.2664,  0.9945],\n",
      "        [ 0.5299,  0.9002],\n",
      "        [ 0.7671,  0.8531],\n",
      "        [ 0.9779,  0.6880],\n",
      "        [ 1.1096,  0.4994],\n",
      "        [ 1.2151,  0.3579],\n",
      "        [ 1.2678,  0.1457],\n",
      "        [ 1.3732, -0.0901],\n",
      "        [-0.4715, -0.6796],\n",
      "        [-0.3661, -0.7267],\n",
      "        [-0.2344, -0.7267],\n",
      "        [-0.1289, -0.6796],\n",
      "        [-0.0762, -0.6088],\n",
      "        [ 0.3718, -0.4674],\n",
      "        [ 0.4772, -0.4674],\n",
      "        [ 0.6616, -0.4674],\n",
      "        [ 0.8198, -0.3966],\n",
      "        [ 0.9252, -0.3023],\n",
      "        [ 0.0819, -0.2552],\n",
      "        [ 0.0292, -0.1608],\n",
      "        [-0.0235, -0.0194],\n",
      "        [-0.0235,  0.0749],\n",
      "        [-0.1289,  0.1928],\n",
      "        [-0.0762,  0.1928],\n",
      "        [-0.0235,  0.2400],\n",
      "        [ 0.0819,  0.2400],\n",
      "        [ 0.1609,  0.2400],\n",
      "        [-0.3661, -0.4202],\n",
      "        [-0.2871, -0.4202],\n",
      "        [-0.1816, -0.4202],\n",
      "        [-0.0762, -0.3259],\n",
      "        [-0.1816, -0.3259],\n",
      "        [-0.2871, -0.3731],\n",
      "        [ 0.4245, -0.2080],\n",
      "        [ 0.5299, -0.2552],\n",
      "        [ 0.6616, -0.2552],\n",
      "        [ 0.7671, -0.2080],\n",
      "        [ 0.6089, -0.1608],\n",
      "        [ 0.4772, -0.1608],\n",
      "        [-0.2344,  0.4286],\n",
      "        [-0.1816,  0.3815],\n",
      "        [-0.0762,  0.3815],\n",
      "        [-0.0235,  0.3815],\n",
      "        [ 0.0292,  0.3815],\n",
      "        [ 0.2136,  0.4286],\n",
      "        [ 0.3191,  0.5465],\n",
      "        [ 0.1609,  0.5937],\n",
      "        [ 0.0292,  0.5937],\n",
      "        [-0.0235,  0.5937],\n",
      "        [-0.1289,  0.5937],\n",
      "        [-0.1816,  0.5229],\n",
      "        [-0.2344,  0.4286],\n",
      "        [-0.0762,  0.4286],\n",
      "        [-0.0235,  0.4758],\n",
      "        [ 0.0819,  0.4758],\n",
      "        [ 0.2664,  0.5465],\n",
      "        [ 0.0292,  0.4758],\n",
      "        [-0.0235,  0.4758],\n",
      "        [-0.0762,  0.4758]], dtype=torch.float64)\n",
      "3 torch.Size([1, 224, 224]) torch.Size([68, 2])\n",
      "tensor([[-0.7170, -0.5067],\n",
      "        [-0.7801, -0.2267],\n",
      "        [-0.7801,  0.0160],\n",
      "        [-0.7801,  0.2400],\n",
      "        [-0.7801,  0.4640],\n",
      "        [-0.7170,  0.6320],\n",
      "        [-0.6539,  0.7627],\n",
      "        [-0.4646,  0.9307],\n",
      "        [-0.2122,  1.0427],\n",
      "        [ 0.1243,  1.0427],\n",
      "        [ 0.4398,  1.0613],\n",
      "        [ 0.6922,  1.0053],\n",
      "        [ 0.8815,  0.8933],\n",
      "        [ 1.0287,  0.6693],\n",
      "        [ 1.1549,  0.5013],\n",
      "        [ 1.2811,  0.2587],\n",
      "        [ 1.4073,  0.0347],\n",
      "        [-0.5277, -0.7307],\n",
      "        [-0.4015, -0.7867],\n",
      "        [-0.2122, -0.7307],\n",
      "        [-0.1491, -0.6747],\n",
      "        [-0.0019, -0.6000],\n",
      "        [ 0.5029, -0.4880],\n",
      "        [ 0.6291, -0.4880],\n",
      "        [ 0.8184, -0.4880],\n",
      "        [ 1.0287, -0.4133],\n",
      "        [ 1.0918, -0.3013],\n",
      "        [ 0.1874, -0.2640],\n",
      "        [ 0.1243, -0.1520],\n",
      "        [ 0.0612,  0.0160],\n",
      "        [-0.0019,  0.1280],\n",
      "        [-0.1491,  0.1840],\n",
      "        [-0.0860,  0.2400],\n",
      "        [-0.0019,  0.2587],\n",
      "        [ 0.1243,  0.2587],\n",
      "        [ 0.1874,  0.2587],\n",
      "        [-0.4015, -0.4507],\n",
      "        [-0.2753, -0.4320],\n",
      "        [-0.1491, -0.4320],\n",
      "        [-0.0860, -0.3760],\n",
      "        [-0.2122, -0.3200],\n",
      "        [-0.3384, -0.3760],\n",
      "        [ 0.4398, -0.2080],\n",
      "        [ 0.6291, -0.2640],\n",
      "        [ 0.6922, -0.1893],\n",
      "        [ 0.8184, -0.1333],\n",
      "        [ 0.6922, -0.1333],\n",
      "        [ 0.5660, -0.1333],\n",
      "        [-0.4015,  0.4080],\n",
      "        [-0.2753,  0.4267],\n",
      "        [-0.1491,  0.3707],\n",
      "        [-0.0860,  0.4267],\n",
      "        [ 0.0612,  0.4267],\n",
      "        [ 0.1874,  0.4827],\n",
      "        [ 0.3136,  0.5947],\n",
      "        [ 0.1243,  0.6507],\n",
      "        [-0.0019,  0.7067],\n",
      "        [-0.1491,  0.6507],\n",
      "        [-0.2753,  0.6507],\n",
      "        [-0.3384,  0.5947],\n",
      "        [-0.4015,  0.4080],\n",
      "        [-0.2122,  0.4827],\n",
      "        [-0.0860,  0.4827],\n",
      "        [ 0.0612,  0.5387],\n",
      "        [ 0.2505,  0.5947],\n",
      "        [-0.0019,  0.5947],\n",
      "        [-0.0860,  0.5947],\n",
      "        [-0.2122,  0.5387]], dtype=torch.float64)\n"
     ]
    },
    {
     "name": "stderr",
     "output_type": "stream",
     "text": [
      "/home/workspace/data_load.py:39: FutureWarning: Method .as_matrix will be removed in a future version. Use .values instead.\n",
      "  key_pts = self.key_pts_frame.iloc[idx, 1:].as_matrix()\n"
     ]
    }
   ],
   "source": [
    "# create the transformed dataset\n",
    "transformed_dataset = FacialKeypointsDataset(csv_file='/data/training_frames_keypoints.csv',\n",
    "                                             root_dir='/data/training/',\n",
    "                                             transform=data_transform)\n",
    "\n",
    "\n",
    "print('Number of images: ', len(transformed_dataset))\n",
    "\n",
    "# iterate through the transformed dataset and print some stats about the first few samples\n",
    "for i in range(4):\n",
    "    sample = transformed_dataset[i]\n",
    "    print(i, sample['image'].size(), sample['keypoints'].size())\n",
    "    print(sample['keypoints'])"
   ]
  },
  {
   "cell_type": "markdown",
   "metadata": {},
   "source": [
    "## Batching and loading data\n",
    "\n",
    "Next, having defined the transformed dataset, we can use PyTorch's DataLoader class to load the training data in batches of whatever size as well as to shuffle the data for training the model. You can read more about the parameters of the DataLoader, in [this documentation](http://pytorch.org/docs/master/data.html).\n",
    "\n",
    "#### Batch size\n",
    "Decide on a good batch size for training your model. Try both small and large batch sizes and note how the loss decreases as the model trains. Too large a batch size may cause your model to crash and/or run out of memory while training.\n",
    "\n",
    "**Note for Windows users**: Please change the `num_workers` to 0 or you may face some issues with your DataLoader failing."
   ]
  },
  {
   "cell_type": "code",
   "execution_count": 6,
   "metadata": {},
   "outputs": [],
   "source": [
    "# load training data in batches\n",
    "batch_size = 10\n",
    "\n",
    "train_loader = DataLoader(transformed_dataset, \n",
    "                          batch_size=batch_size,\n",
    "                          shuffle=True, \n",
    "                          num_workers=4)\n"
   ]
  },
  {
   "cell_type": "markdown",
   "metadata": {},
   "source": [
    "## Before training\n",
    "\n",
    "Take a look at how this model performs before it trains. You should see that the keypoints it predicts start off in one spot and don't match the keypoints on a face at all! It's interesting to visualize this behavior so that you can compare it to the model after training and see how the model has improved.\n",
    "\n",
    "#### Load in the test dataset\n",
    "\n",
    "The test dataset is one that this model has *not* seen before, meaning it has not trained with these images. We'll load in this test data and before and after training, see how your model performs on this set!\n",
    "\n",
    "To visualize this test data, we have to go through some un-transformation steps to turn our images into python images from tensors and to turn our keypoints back into a recognizable range. "
   ]
  },
  {
   "cell_type": "code",
   "execution_count": 7,
   "metadata": {},
   "outputs": [],
   "source": [
    "# load in the test data, using the dataset class\n",
    "# AND apply the data_transform you defined above\n",
    "\n",
    "# create the test dataset\n",
    "test_dataset = FacialKeypointsDataset(csv_file='/data/test_frames_keypoints.csv',\n",
    "                                             root_dir='/data/test/',\n",
    "                                             transform=data_transform)\n",
    "\n"
   ]
  },
  {
   "cell_type": "code",
   "execution_count": 8,
   "metadata": {},
   "outputs": [],
   "source": [
    "# load test data in batches\n",
    "batch_size = 10\n",
    "\n",
    "test_loader = DataLoader(test_dataset, \n",
    "                          batch_size=batch_size,\n",
    "                          shuffle=True, \n",
    "                          num_workers=4)"
   ]
  },
  {
   "cell_type": "markdown",
   "metadata": {},
   "source": [
    "## Apply the model on a test sample\n",
    "\n",
    "To test the model on a test sample of data, you have to follow these steps:\n",
    "1. Extract the image and ground truth keypoints from a sample\n",
    "2. Wrap the image in a Variable, so that the net can process it as input and track how it changes as the image moves through the network.\n",
    "3. Make sure the image is a FloatTensor, which the model expects.\n",
    "4. Forward pass the image through the net to get the predicted, output keypoints.\n",
    "\n",
    "This function test how the network performs on the first batch of test data. It returns the images, the transformed images, the predicted keypoints (produced by the model), and the ground truth keypoints."
   ]
  },
  {
   "cell_type": "code",
   "execution_count": 9,
   "metadata": {},
   "outputs": [],
   "source": [
    "# test the model on a batch of test images\n",
    "\n",
    "def net_sample_output():\n",
    "    \n",
    "    # iterate through the test dataset\n",
    "    for i, sample in enumerate(test_loader):\n",
    "        \n",
    "        # get sample data: images and ground truth keypoints\n",
    "        images = sample['image']\n",
    "        key_pts = sample['keypoints']\n",
    "\n",
    "        # convert images to FloatTensors\n",
    "        images = images.type(torch.FloatTensor)\n",
    "\n",
    "        # forward pass to get net output\n",
    "        output_pts = net(images)\n",
    "        \n",
    "        # reshape to batch_size x 68 x 2 pts\n",
    "        output_pts = output_pts.view(output_pts.size()[0], 68, -1)\n",
    "        \n",
    "        # break after first image is tested\n",
    "        if i == 0:\n",
    "            return images, output_pts, key_pts\n",
    "            "
   ]
  },
  {
   "cell_type": "markdown",
   "metadata": {},
   "source": [
    "#### Debugging tips\n",
    "\n",
    "If you get a size or dimension error here, make sure that your network outputs the expected number of keypoints! Or if you get a Tensor type error, look into changing the above code that casts the data into float types: `images = images.type(torch.FloatTensor)`."
   ]
  },
  {
   "cell_type": "code",
   "execution_count": 10,
   "metadata": {},
   "outputs": [
    {
     "name": "stderr",
     "output_type": "stream",
     "text": [
      "/home/workspace/data_load.py:39: FutureWarning: Method .as_matrix will be removed in a future version. Use .values instead.\n",
      "  key_pts = self.key_pts_frame.iloc[idx, 1:].as_matrix()\n",
      "/home/workspace/data_load.py:39: FutureWarning: Method .as_matrix will be removed in a future version. Use .values instead.\n",
      "  key_pts = self.key_pts_frame.iloc[idx, 1:].as_matrix()\n",
      "/home/workspace/data_load.py:39: FutureWarning: Method .as_matrix will be removed in a future version. Use .values instead.\n",
      "  key_pts = self.key_pts_frame.iloc[idx, 1:].as_matrix()\n",
      "/home/workspace/data_load.py:39: FutureWarning: Method .as_matrix will be removed in a future version. Use .values instead.\n",
      "  key_pts = self.key_pts_frame.iloc[idx, 1:].as_matrix()\n"
     ]
    },
    {
     "name": "stdout",
     "output_type": "stream",
     "text": [
      "torch.Size([10, 1, 224, 224])\n",
      "torch.Size([10, 68, 2])\n",
      "torch.Size([10, 68, 2])\n"
     ]
    }
   ],
   "source": [
    "# call the above function\n",
    "# returns: test images, test predicted keypoints, test ground truth keypoints\n",
    "test_images, test_outputs, gt_pts = net_sample_output()\n",
    "\n",
    "# print out the dimensions of the data to see if they make sense\n",
    "print(test_images.data.size())\n",
    "print(test_outputs.data.size())\n",
    "print(gt_pts.size())"
   ]
  },
  {
   "cell_type": "markdown",
   "metadata": {},
   "source": [
    "## Visualize the predicted keypoints\n",
    "\n",
    "Once we've had the model produce some predicted output keypoints, we can visualize these points in a way that's similar to how we've displayed this data before, only this time, we have to \"un-transform\" the image/keypoint data to display it.\n",
    "\n",
    "Note that I've defined a *new* function, `show_all_keypoints` that displays a grayscale image, its predicted keypoints and its ground truth keypoints (if provided)."
   ]
  },
  {
   "cell_type": "code",
   "execution_count": 11,
   "metadata": {},
   "outputs": [],
   "source": [
    "def show_all_keypoints(image, predicted_key_pts, gt_pts=None):\n",
    "    \"\"\"Show image with predicted keypoints\"\"\"\n",
    "    # image is grayscale\n",
    "    plt.imshow(image, cmap='gray')\n",
    "    plt.scatter(predicted_key_pts[:, 0], predicted_key_pts[:, 1], s=20, marker='.', c='m')\n",
    "    # plot ground truth points as green pts\n",
    "    if gt_pts is not None:\n",
    "        plt.scatter(gt_pts[:, 0], gt_pts[:, 1], s=20, marker='.', c='g')\n"
   ]
  },
  {
   "cell_type": "markdown",
   "metadata": {},
   "source": [
    "#### Un-transformation\n",
    "\n",
    "Next, you'll see a helper function. `visualize_output` that takes in a batch of images, predicted keypoints, and ground truth keypoints and displays a set of those images and their true/predicted keypoints.\n",
    "\n",
    "This function's main role is to take batches of image and keypoint data (the input and output of your CNN), and transform them into numpy images and un-normalized keypoints (x, y) for normal display. The un-transformation process turns keypoints and images into numpy arrays from Tensors *and* it undoes the keypoint normalization done in the Normalize() transform; it's assumed that you applied these transformations when you loaded your test data."
   ]
  },
  {
   "cell_type": "code",
   "execution_count": 12,
   "metadata": {},
   "outputs": [
    {
     "data": {
      "image/png": "[encoded data removed]",
      "text/plain": [
       "<matplotlib.figure.Figure at 0x7facb5358358>"
      ]
     },
     "metadata": {
      "needs_background": "light"
     },
     "output_type": "display_data"
    },
    {
     "data": {
      "image/png": "[encoded data removed]",
      "text/plain": [
       "<matplotlib.figure.Figure at 0x7facb53397b8>"
      ]
     },
     "metadata": {
      "needs_background": "light"
     },
     "output_type": "display_data"
    },
    {
     "data": {
      "image/png": "[encoded data removed]",
      "text/plain": [
       "<matplotlib.figure.Figure at 0x7facb4a8d860>"
      ]
     },
     "metadata": {
      "needs_background": "light"
     },
     "output_type": "display_data"
    },
    {
     "data": {
      "image/png": "[encoded data removed]",
      "text/plain": [
       "<matplotlib.figure.Figure at 0x7facb4a519b0>"
      ]
     },
     "metadata": {
      "needs_background": "light"
     },
     "output_type": "display_data"
    },
    {
     "data": {
      "image/png": "[encoded data removed]",
      "text/plain": [
       "<matplotlib.figure.Figure at 0x7facb4a9ed68>"
      ]
     },
     "metadata": {
      "needs_background": "light"
     },
     "output_type": "display_data"
    },
    {
     "data": {
      "image/png": "[encoded data removed]",
      "text/plain": [
       "<matplotlib.figure.Figure at 0x7facb49ce6a0>"
      ]
     },
     "metadata": {
      "needs_background": "light"
     },
     "output_type": "display_data"
    },
    {
     "data": {
      "image/png": "[encoded data removed]",
      "text/plain": [
       "<matplotlib.figure.Figure at 0x7facb4992780>"
      ]
     },
     "metadata": {
      "needs_background": "light"
     },
     "output_type": "display_data"
    },
    {
     "data": {
      "image/png": "[encoded data removed]",
      "text/plain": [
       "<matplotlib.figure.Figure at 0x7facb4954b70>"
      ]
     },
     "metadata": {
      "needs_background": "light"
     },
     "output_type": "display_data"
    },
    {
     "data": {
      "image/png": "[encoded data removed]",
      "text/plain": [
       "<matplotlib.figure.Figure at 0x7facb4a1e588>"
      ]
     },
     "metadata": {
      "needs_background": "light"
     },
     "output_type": "display_data"
    },
    {
     "data": {
      "image/png": "[encoded data removed]",
      "text/plain": [
       "<matplotlib.figure.Figure at 0x7facb48d2400>"
      ]
     },
     "metadata": {
      "needs_background": "light"
     },
     "output_type": "display_data"
    }
   ],
   "source": [
    "# visualize the output\n",
    "# by default this shows a batch of 10 images\n",
    "def visualize_output(test_images, test_outputs, gt_pts=None, batch_size=10):\n",
    "\n",
    "    for i in range(batch_size):\n",
    "        plt.figure(figsize=(20,10))\n",
    "        ax = plt.subplot(1, batch_size, i+1)\n",
    "\n",
    "        # un-transform the image data\n",
    "        image = test_images[i].data   # get the image from it's Variable wrapper\n",
    "        image = image.numpy()   # convert to numpy array from a Tensor\n",
    "        image = np.transpose(image, (1, 2, 0))   # transpose to go from torch to numpy image\n",
    "\n",
    "        # un-transform the predicted key_pts data\n",
    "        predicted_key_pts = test_outputs[i].data\n",
    "        predicted_key_pts = predicted_key_pts.numpy()\n",
    "        # undo normalization of keypoints  \n",
    "        predicted_key_pts = predicted_key_pts*50.0+100\n",
    "        \n",
    "        # plot ground truth points for comparison, if they exist\n",
    "        ground_truth_pts = None\n",
    "        if gt_pts is not None:\n",
    "            ground_truth_pts = gt_pts[i]         \n",
    "            ground_truth_pts = ground_truth_pts*50.0+100\n",
    "        \n",
    "        # call show_all_keypoints\n",
    "        show_all_keypoints(np.squeeze(image), predicted_key_pts, ground_truth_pts)\n",
    "            \n",
    "        plt.axis('off')\n",
    "\n",
    "    plt.show()\n",
    "    \n",
    "# call it\n",
    "visualize_output(test_images, test_outputs, gt_pts)"
   ]
  },
  {
   "cell_type": "markdown",
   "metadata": {},
   "source": [
    "## Training\n",
    "\n",
    "#### Loss function\n",
    "Training a network to predict keypoints is different than training a network to predict a class; instead of outputting a distribution of classes and using cross entropy loss, you may want to choose a loss function that is suited for regression, which directly compares a predicted value and target value. Read about the various kinds of loss functions (like MSE or L1/SmoothL1 loss) in [this documentation](http://pytorch.org/docs/master/_modules/torch/nn/modules/loss.html).\n",
    "\n",
    "### TODO: Define the loss and optimization\n",
    "\n",
    "Next, you'll define how the model will train by deciding on the loss function and optimizer.\n",
    "\n",
    "---"
   ]
  },
  {
   "cell_type": "code",
   "execution_count": 13,
   "metadata": {},
   "outputs": [],
   "source": [
    "## TODO: Define the loss and optimization\n",
    "import torch.optim as optim\n",
    "\n",
    "criterion = nn.MSELoss()\n",
    "\n",
    "optimizer = optim.Adam(net.parameters(), lr=0.005)\n",
    "\n"
   ]
  },
  {
   "cell_type": "markdown",
   "metadata": {},
   "source": [
    "## Training and Initial Observation\n",
    "\n",
    "Now, you'll train on your batched training data from `train_loader` for a number of epochs. \n",
    "\n",
    "To quickly observe how your model is training and decide on whether or not you should modify it's structure or hyperparameters, you're encouraged to start off with just one or two epochs at first. As you train, note how your the model's loss behaves over time: does it decrease quickly at first and then slow down? Does it take a while to decrease in the first place? What happens if you change the batch size of your training data or modify your loss function? etc. \n",
    "\n",
    "Use these initial observations to make changes to your model and decide on the best architecture before you train for many epochs and create a final model."
   ]
  },
  {
   "cell_type": "code",
   "execution_count": 14,
   "metadata": {},
   "outputs": [],
   "source": [
    "def train_net(n_epochs):\n",
    "\n",
    "    # prepare the net for training\n",
    "    net.train()\n",
    "\n",
    "    for epoch in range(n_epochs):  # loop over the dataset multiple times\n",
    "        \n",
    "        running_loss = 0.0\n",
    "\n",
    "        # train on batches of data, assumes you already have train_loader\n",
    "        for batch_i, data in enumerate(train_loader):\n",
    "            # get the input images and their corresponding labels\n",
    "            images = data['image']\n",
    "            key_pts = data['keypoints']\n",
    "\n",
    "            # flatten pts\n",
    "            key_pts = key_pts.view(key_pts.size(0), -1)\n",
    "\n",
    "            # convert variables to floats for regression loss\n",
    "            key_pts = key_pts.type(torch.FloatTensor)\n",
    "            images = images.type(torch.FloatTensor)\n",
    "\n",
    "            # forward pass to get outputs\n",
    "            output_pts = net(images)\n",
    "\n",
    "            # calculate the loss between predicted and target keypoints\n",
    "            loss = criterion(output_pts, key_pts)\n",
    "\n",
    "            # zero the parameter (weight) gradients\n",
    "            optimizer.zero_grad()\n",
    "            \n",
    "            # backward pass to calculate the weight gradients\n",
    "            loss.backward()\n",
    "\n",
    "            # update the weights\n",
    "            optimizer.step()\n",
    "\n",
    "            # print loss statistics\n",
    "            running_loss += loss.item()\n",
    "            if batch_i % 10 == 9:    # print every 10 batches\n",
    "                print('Epoch: {}, Batch: {}, Avg. Loss: {}'.format(epoch + 1, batch_i+1, running_loss/10))\n",
    "                running_loss = 0.0\n",
    "\n",
    "    print('Finished Training')\n"
   ]
  },
  {
   "cell_type": "code",
   "execution_count": 15,
   "metadata": {},
   "outputs": [
    {
     "name": "stderr",
     "output_type": "stream",
     "text": [
      "/home/workspace/data_load.py:39: FutureWarning: Method .as_matrix will be removed in a future version. Use .values instead.\n",
      "  key_pts = self.key_pts_frame.iloc[idx, 1:].as_matrix()\n",
      "/home/workspace/data_load.py:39: FutureWarning: Method .as_matrix will be removed in a future version. Use .values instead.\n",
      "  key_pts = self.key_pts_frame.iloc[idx, 1:].as_matrix()\n",
      "/home/workspace/data_load.py:39: FutureWarning: Method .as_matrix will be removed in a future version. Use .values instead.\n",
      "  key_pts = self.key_pts_frame.iloc[idx, 1:].as_matrix()\n",
      "/home/workspace/data_load.py:39: FutureWarning: Method .as_matrix will be removed in a future version. Use .values instead.\n",
      "  key_pts = self.key_pts_frame.iloc[idx, 1:].as_matrix()\n"
     ]
    },
    {
     "name": "stdout",
     "output_type": "stream",
     "text": [
      "Epoch: 1, Batch: 10, Avg. Loss: 0.4461306482553482\n",
      "Epoch: 1, Batch: 20, Avg. Loss: 0.47758672535419466\n",
      "Epoch: 1, Batch: 30, Avg. Loss: 0.4728624552488327\n",
      "Epoch: 1, Batch: 40, Avg. Loss: 0.46768813729286196\n",
      "Epoch: 1, Batch: 50, Avg. Loss: 0.45288766622543336\n",
      "Epoch: 1, Batch: 60, Avg. Loss: 0.4678639829158783\n",
      "Epoch: 1, Batch: 70, Avg. Loss: 0.4598705530166626\n",
      "Epoch: 1, Batch: 80, Avg. Loss: 0.4521841287612915\n",
      "Epoch: 1, Batch: 90, Avg. Loss: 0.4576242685317993\n",
      "Epoch: 1, Batch: 100, Avg. Loss: 0.4669704109430313\n",
      "Epoch: 1, Batch: 110, Avg. Loss: 0.4597012549638748\n",
      "Epoch: 1, Batch: 120, Avg. Loss: 0.45813908576965334\n",
      "Epoch: 1, Batch: 130, Avg. Loss: 0.4736628353595734\n",
      "Epoch: 1, Batch: 140, Avg. Loss: 0.48293313980102537\n",
      "Epoch: 1, Batch: 150, Avg. Loss: 0.45830358266830445\n",
      "Epoch: 1, Batch: 160, Avg. Loss: 0.4691706210374832\n",
      "Epoch: 1, Batch: 170, Avg. Loss: 0.4501143306493759\n",
      "Epoch: 1, Batch: 180, Avg. Loss: 0.4560662478208542\n",
      "Epoch: 1, Batch: 190, Avg. Loss: 0.45819424390792846\n",
      "Epoch: 1, Batch: 200, Avg. Loss: 0.4668533444404602\n",
      "Epoch: 1, Batch: 210, Avg. Loss: 0.4640040397644043\n",
      "Epoch: 1, Batch: 220, Avg. Loss: 0.4575283259153366\n",
      "Epoch: 1, Batch: 230, Avg. Loss: 0.4638175815343857\n",
      "Epoch: 1, Batch: 240, Avg. Loss: 0.4533187061548233\n",
      "Epoch: 1, Batch: 250, Avg. Loss: 0.4619761943817139\n",
      "Epoch: 1, Batch: 260, Avg. Loss: 0.47676563262939453\n",
      "Epoch: 1, Batch: 270, Avg. Loss: 0.46428627967834474\n",
      "Epoch: 1, Batch: 280, Avg. Loss: 0.47392258644104\n",
      "Epoch: 1, Batch: 290, Avg. Loss: 0.4515157014131546\n",
      "Epoch: 1, Batch: 300, Avg. Loss: 0.46220111548900605\n",
      "Epoch: 1, Batch: 310, Avg. Loss: 0.45941777527332306\n",
      "Epoch: 1, Batch: 320, Avg. Loss: 0.4630896121263504\n",
      "Epoch: 1, Batch: 330, Avg. Loss: 0.4603637993335724\n",
      "Epoch: 1, Batch: 340, Avg. Loss: 0.4610530138015747\n"
     ]
    },
    {
     "name": "stderr",
     "output_type": "stream",
     "text": [
      "/home/workspace/data_load.py:39: FutureWarning: Method .as_matrix will be removed in a future version. Use .values instead.\n",
      "  key_pts = self.key_pts_frame.iloc[idx, 1:].as_matrix()\n",
      "/home/workspace/data_load.py:39: FutureWarning: Method .as_matrix will be removed in a future version. Use .values instead.\n",
      "  key_pts = self.key_pts_frame.iloc[idx, 1:].as_matrix()\n",
      "/home/workspace/data_load.py:39: FutureWarning: Method .as_matrix will be removed in a future version. Use .values instead.\n",
      "  key_pts = self.key_pts_frame.iloc[idx, 1:].as_matrix()\n",
      "/home/workspace/data_load.py:39: FutureWarning: Method .as_matrix will be removed in a future version. Use .values instead.\n",
      "  key_pts = self.key_pts_frame.iloc[idx, 1:].as_matrix()\n"
     ]
    },
    {
     "name": "stdout",
     "output_type": "stream",
     "text": [
      "Epoch: 2, Batch: 10, Avg. Loss: 0.45162011981010436\n",
      "Epoch: 2, Batch: 20, Avg. Loss: 0.4576849669218063\n",
      "Epoch: 2, Batch: 30, Avg. Loss: 0.45897912681102754\n",
      "Epoch: 2, Batch: 40, Avg. Loss: 0.4648495137691498\n",
      "Epoch: 2, Batch: 50, Avg. Loss: 0.46554224789142606\n",
      "Epoch: 2, Batch: 60, Avg. Loss: 0.44847367107868197\n",
      "Epoch: 2, Batch: 70, Avg. Loss: 0.4650527864694595\n",
      "Epoch: 2, Batch: 80, Avg. Loss: 0.47905400991439817\n",
      "Epoch: 2, Batch: 90, Avg. Loss: 0.46563486456871034\n",
      "Epoch: 2, Batch: 100, Avg. Loss: 0.4740003228187561\n",
      "Epoch: 2, Batch: 110, Avg. Loss: 0.4618649661540985\n",
      "Epoch: 2, Batch: 120, Avg. Loss: 0.44413531124591826\n",
      "Epoch: 2, Batch: 130, Avg. Loss: 0.4583566576242447\n",
      "Epoch: 2, Batch: 140, Avg. Loss: 0.47512678802013397\n",
      "Epoch: 2, Batch: 150, Avg. Loss: 0.46068728566169737\n",
      "Epoch: 2, Batch: 160, Avg. Loss: 0.4686551183462143\n",
      "Epoch: 2, Batch: 170, Avg. Loss: 0.4466745167970657\n",
      "Epoch: 2, Batch: 180, Avg. Loss: 0.4684076219797134\n",
      "Epoch: 2, Batch: 190, Avg. Loss: 0.4720382809638977\n",
      "Epoch: 2, Batch: 200, Avg. Loss: 0.47968935072422025\n",
      "Epoch: 2, Batch: 210, Avg. Loss: 0.4556132346391678\n",
      "Epoch: 2, Batch: 220, Avg. Loss: 0.45585305988788605\n",
      "Epoch: 2, Batch: 230, Avg. Loss: 0.4539505273103714\n",
      "Epoch: 2, Batch: 240, Avg. Loss: 0.4566167026758194\n",
      "Epoch: 2, Batch: 250, Avg. Loss: 0.46531888246536257\n",
      "Epoch: 2, Batch: 260, Avg. Loss: 0.475277841091156\n",
      "Epoch: 2, Batch: 270, Avg. Loss: 0.45759656429290774\n",
      "Epoch: 2, Batch: 280, Avg. Loss: 0.453776428103447\n",
      "Epoch: 2, Batch: 290, Avg. Loss: 0.4607808619737625\n",
      "Epoch: 2, Batch: 300, Avg. Loss: 0.4634282350540161\n",
      "Epoch: 2, Batch: 310, Avg. Loss: 0.4816642224788666\n",
      "Epoch: 2, Batch: 320, Avg. Loss: 0.4501621901988983\n",
      "Epoch: 2, Batch: 330, Avg. Loss: 0.4821119874715805\n",
      "Epoch: 2, Batch: 340, Avg. Loss: 0.448584720492363\n"
     ]
    },
    {
     "name": "stderr",
     "output_type": "stream",
     "text": [
      "/home/workspace/data_load.py:39: FutureWarning: Method .as_matrix will be removed in a future version. Use .values instead.\n",
      "  key_pts = self.key_pts_frame.iloc[idx, 1:].as_matrix()\n",
      "/home/workspace/data_load.py:39: FutureWarning: Method .as_matrix will be removed in a future version. Use .values instead.\n",
      "  key_pts = self.key_pts_frame.iloc[idx, 1:].as_matrix()\n",
      "/home/workspace/data_load.py:39: FutureWarning: Method .as_matrix will be removed in a future version. Use .values instead.\n",
      "  key_pts = self.key_pts_frame.iloc[idx, 1:].as_matrix()\n",
      "/home/workspace/data_load.py:39: FutureWarning: Method .as_matrix will be removed in a future version. Use .values instead.\n",
      "  key_pts = self.key_pts_frame.iloc[idx, 1:].as_matrix()\n"
     ]
    },
    {
     "name": "stdout",
     "output_type": "stream",
     "text": [
      "Epoch: 3, Batch: 10, Avg. Loss: 0.46816104650497437\n",
      "Epoch: 3, Batch: 20, Avg. Loss: 0.459767809510231\n",
      "Epoch: 3, Batch: 30, Avg. Loss: 0.4586597204208374\n",
      "Epoch: 3, Batch: 40, Avg. Loss: 0.4559205651283264\n",
      "Epoch: 3, Batch: 50, Avg. Loss: 0.47109776437282563\n",
      "Epoch: 3, Batch: 60, Avg. Loss: 0.468754181265831\n",
      "Epoch: 3, Batch: 70, Avg. Loss: 0.45992293059825895\n",
      "Epoch: 3, Batch: 80, Avg. Loss: 0.4686926454305649\n",
      "Epoch: 3, Batch: 90, Avg. Loss: 0.4627374202013016\n",
      "Epoch: 3, Batch: 100, Avg. Loss: 0.4442236006259918\n",
      "Epoch: 3, Batch: 110, Avg. Loss: 0.45435358583927155\n",
      "Epoch: 3, Batch: 120, Avg. Loss: 0.48706185519695283\n",
      "Epoch: 3, Batch: 130, Avg. Loss: 0.4649012804031372\n",
      "Epoch: 3, Batch: 140, Avg. Loss: 0.45693105161190034\n",
      "Epoch: 3, Batch: 150, Avg. Loss: 0.44912730157375336\n",
      "Epoch: 3, Batch: 160, Avg. Loss: 0.4679075747728348\n",
      "Epoch: 3, Batch: 170, Avg. Loss: 0.4493498891592026\n",
      "Epoch: 3, Batch: 180, Avg. Loss: 0.47875589728355405\n",
      "Epoch: 3, Batch: 190, Avg. Loss: 0.4576479434967041\n",
      "Epoch: 3, Batch: 200, Avg. Loss: 0.47961712181568145\n",
      "Epoch: 3, Batch: 210, Avg. Loss: 0.4629860490560532\n",
      "Epoch: 3, Batch: 220, Avg. Loss: 0.47763586044311523\n",
      "Epoch: 3, Batch: 230, Avg. Loss: 0.4523762434720993\n",
      "Epoch: 3, Batch: 240, Avg. Loss: 0.469856995344162\n",
      "Epoch: 3, Batch: 250, Avg. Loss: 0.4656952768564224\n",
      "Epoch: 3, Batch: 260, Avg. Loss: 0.46210991144180297\n",
      "Epoch: 3, Batch: 270, Avg. Loss: 0.4644805908203125\n",
      "Epoch: 3, Batch: 280, Avg. Loss: 0.45568535625934603\n",
      "Epoch: 3, Batch: 290, Avg. Loss: 0.45699778497219085\n",
      "Epoch: 3, Batch: 300, Avg. Loss: 0.4790251553058624\n",
      "Epoch: 3, Batch: 310, Avg. Loss: 0.46036526560783386\n",
      "Epoch: 3, Batch: 320, Avg. Loss: 0.4647648423910141\n",
      "Epoch: 3, Batch: 330, Avg. Loss: 0.4571431279182434\n",
      "Epoch: 3, Batch: 340, Avg. Loss: 0.44724494218826294\n"
     ]
    },
    {
     "name": "stderr",
     "output_type": "stream",
     "text": [
      "/home/workspace/data_load.py:39: FutureWarning: Method .as_matrix will be removed in a future version. Use .values instead.\n",
      "  key_pts = self.key_pts_frame.iloc[idx, 1:].as_matrix()\n",
      "/home/workspace/data_load.py:39: FutureWarning: Method .as_matrix will be removed in a future version. Use .values instead.\n",
      "  key_pts = self.key_pts_frame.iloc[idx, 1:].as_matrix()\n",
      "/home/workspace/data_load.py:39: FutureWarning: Method .as_matrix will be removed in a future version. Use .values instead.\n",
      "  key_pts = self.key_pts_frame.iloc[idx, 1:].as_matrix()\n",
      "/home/workspace/data_load.py:39: FutureWarning: Method .as_matrix will be removed in a future version. Use .values instead.\n",
      "  key_pts = self.key_pts_frame.iloc[idx, 1:].as_matrix()\n"
     ]
    },
    {
     "name": "stdout",
     "output_type": "stream",
     "text": [
      "Epoch: 4, Batch: 10, Avg. Loss: 0.4514349639415741\n",
      "Epoch: 4, Batch: 20, Avg. Loss: 0.47497410178184507\n",
      "Epoch: 4, Batch: 30, Avg. Loss: 0.4619632810354233\n",
      "Epoch: 4, Batch: 40, Avg. Loss: 0.4709175407886505\n",
      "Epoch: 4, Batch: 50, Avg. Loss: 0.46707312762737274\n",
      "Epoch: 4, Batch: 60, Avg. Loss: 0.47619065046310427\n",
      "Epoch: 4, Batch: 70, Avg. Loss: 0.46639699637889864\n",
      "Epoch: 4, Batch: 80, Avg. Loss: 0.4565884739160538\n",
      "Epoch: 4, Batch: 90, Avg. Loss: 0.46722699999809264\n",
      "Epoch: 4, Batch: 100, Avg. Loss: 0.46949089467525484\n",
      "Epoch: 4, Batch: 110, Avg. Loss: 0.46570592522621157\n",
      "Epoch: 4, Batch: 120, Avg. Loss: 0.4509118437767029\n",
      "Epoch: 4, Batch: 130, Avg. Loss: 0.4661663055419922\n",
      "Epoch: 4, Batch: 140, Avg. Loss: 0.4525111258029938\n",
      "Epoch: 4, Batch: 150, Avg. Loss: 0.4695238322019577\n",
      "Epoch: 4, Batch: 160, Avg. Loss: 0.45817004442214965\n",
      "Epoch: 4, Batch: 170, Avg. Loss: 0.4544700801372528\n",
      "Epoch: 4, Batch: 180, Avg. Loss: 0.4901441603899002\n",
      "Epoch: 4, Batch: 190, Avg. Loss: 0.4713857710361481\n",
      "Epoch: 4, Batch: 200, Avg. Loss: 0.45653497874736787\n",
      "Epoch: 4, Batch: 210, Avg. Loss: 0.4691863387823105\n",
      "Epoch: 4, Batch: 220, Avg. Loss: 0.46031700968742373\n",
      "Epoch: 4, Batch: 230, Avg. Loss: 0.4646723985671997\n",
      "Epoch: 4, Batch: 240, Avg. Loss: 0.4592214435338974\n",
      "Epoch: 4, Batch: 250, Avg. Loss: 0.46614918410778045\n",
      "Epoch: 4, Batch: 260, Avg. Loss: 0.4747234612703323\n",
      "Epoch: 4, Batch: 270, Avg. Loss: 0.45001124441623686\n",
      "Epoch: 4, Batch: 280, Avg. Loss: 0.4471176713705063\n",
      "Epoch: 4, Batch: 290, Avg. Loss: 0.45789812207221986\n",
      "Epoch: 4, Batch: 300, Avg. Loss: 0.45678475499153137\n",
      "Epoch: 4, Batch: 310, Avg. Loss: 0.4560703933238983\n",
      "Epoch: 4, Batch: 320, Avg. Loss: 0.45450542867183685\n",
      "Epoch: 4, Batch: 330, Avg. Loss: 0.4546390324831009\n",
      "Epoch: 4, Batch: 340, Avg. Loss: 0.4663743436336517\n"
     ]
    },
    {
     "name": "stderr",
     "output_type": "stream",
     "text": [
      "/home/workspace/data_load.py:39: FutureWarning: Method .as_matrix will be removed in a future version. Use .values instead.\n",
      "  key_pts = self.key_pts_frame.iloc[idx, 1:].as_matrix()\n",
      "/home/workspace/data_load.py:39: FutureWarning: Method .as_matrix will be removed in a future version. Use .values instead.\n",
      "  key_pts = self.key_pts_frame.iloc[idx, 1:].as_matrix()\n",
      "/home/workspace/data_load.py:39: FutureWarning: Method .as_matrix will be removed in a future version. Use .values instead.\n",
      "  key_pts = self.key_pts_frame.iloc[idx, 1:].as_matrix()\n",
      "/home/workspace/data_load.py:39: FutureWarning: Method .as_matrix will be removed in a future version. Use .values instead.\n",
      "  key_pts = self.key_pts_frame.iloc[idx, 1:].as_matrix()\n"
     ]
    },
    {
     "name": "stdout",
     "output_type": "stream",
     "text": [
      "Epoch: 5, Batch: 10, Avg. Loss: 0.48205179870128634\n",
      "Epoch: 5, Batch: 20, Avg. Loss: 0.4475906491279602\n",
      "Epoch: 5, Batch: 30, Avg. Loss: 0.45363729894161225\n",
      "Epoch: 5, Batch: 40, Avg. Loss: 0.4719945311546326\n",
      "Epoch: 5, Batch: 50, Avg. Loss: 0.4458361953496933\n",
      "Epoch: 5, Batch: 60, Avg. Loss: 0.46703043580055237\n",
      "Epoch: 5, Batch: 70, Avg. Loss: 0.45525417029857634\n",
      "Epoch: 5, Batch: 80, Avg. Loss: 0.45151745676994326\n",
      "Epoch: 5, Batch: 90, Avg. Loss: 0.4766731053590775\n",
      "Epoch: 5, Batch: 100, Avg. Loss: 0.47741528451442716\n",
      "Epoch: 5, Batch: 110, Avg. Loss: 0.46830775737762453\n",
      "Epoch: 5, Batch: 120, Avg. Loss: 0.4740291595458984\n",
      "Epoch: 5, Batch: 130, Avg. Loss: 0.45345412492752074\n",
      "Epoch: 5, Batch: 140, Avg. Loss: 0.4536529749631882\n",
      "Epoch: 5, Batch: 150, Avg. Loss: 0.46122226417064666\n",
      "Epoch: 5, Batch: 160, Avg. Loss: 0.4596060514450073\n",
      "Epoch: 5, Batch: 170, Avg. Loss: 0.4637301921844482\n",
      "Epoch: 5, Batch: 180, Avg. Loss: 0.45789510309696196\n",
      "Epoch: 5, Batch: 190, Avg. Loss: 0.44129543006420135\n",
      "Epoch: 5, Batch: 200, Avg. Loss: 0.4655122309923172\n",
      "Epoch: 5, Batch: 210, Avg. Loss: 0.4619317322969437\n",
      "Epoch: 5, Batch: 220, Avg. Loss: 0.4682017982006073\n",
      "Epoch: 5, Batch: 230, Avg. Loss: 0.4599331855773926\n",
      "Epoch: 5, Batch: 240, Avg. Loss: 0.4635035037994385\n",
      "Epoch: 5, Batch: 250, Avg. Loss: 0.47235589623451235\n",
      "Epoch: 5, Batch: 260, Avg. Loss: 0.46294422447681427\n",
      "Epoch: 5, Batch: 270, Avg. Loss: 0.44521471858024597\n",
      "Epoch: 5, Batch: 280, Avg. Loss: 0.47980343997478486\n",
      "Epoch: 5, Batch: 290, Avg. Loss: 0.45534797608852384\n",
      "Epoch: 5, Batch: 300, Avg. Loss: 0.46895662546157835\n",
      "Epoch: 5, Batch: 310, Avg. Loss: 0.4644250005483627\n",
      "Epoch: 5, Batch: 320, Avg. Loss: 0.4712240695953369\n",
      "Epoch: 5, Batch: 330, Avg. Loss: 0.46336688101291656\n",
      "Epoch: 5, Batch: 340, Avg. Loss: 0.46774170100688933\n"
     ]
    },
    {
     "name": "stderr",
     "output_type": "stream",
     "text": [
      "/home/workspace/data_load.py:39: FutureWarning: Method .as_matrix will be removed in a future version. Use .values instead.\n",
      "  key_pts = self.key_pts_frame.iloc[idx, 1:].as_matrix()\n",
      "/home/workspace/data_load.py:39: FutureWarning: Method .as_matrix will be removed in a future version. Use .values instead.\n",
      "  key_pts = self.key_pts_frame.iloc[idx, 1:].as_matrix()\n",
      "/home/workspace/data_load.py:39: FutureWarning: Method .as_matrix will be removed in a future version. Use .values instead.\n",
      "  key_pts = self.key_pts_frame.iloc[idx, 1:].as_matrix()\n",
      "/home/workspace/data_load.py:39: FutureWarning: Method .as_matrix will be removed in a future version. Use .values instead.\n",
      "  key_pts = self.key_pts_frame.iloc[idx, 1:].as_matrix()\n"
     ]
    },
    {
     "name": "stdout",
     "output_type": "stream",
     "text": [
      "Epoch: 6, Batch: 10, Avg. Loss: 0.4441989064216614\n",
      "Epoch: 6, Batch: 20, Avg. Loss: 0.46743735671043396\n",
      "Epoch: 6, Batch: 30, Avg. Loss: 0.4656393826007843\n",
      "Epoch: 6, Batch: 40, Avg. Loss: 0.47934654653072356\n",
      "Epoch: 6, Batch: 50, Avg. Loss: 0.451566082239151\n",
      "Epoch: 6, Batch: 60, Avg. Loss: 0.45422822833061216\n",
      "Epoch: 6, Batch: 70, Avg. Loss: 0.4624908357858658\n",
      "Epoch: 6, Batch: 80, Avg. Loss: 0.46589621901512146\n",
      "Epoch: 6, Batch: 90, Avg. Loss: 0.4566756755113602\n",
      "Epoch: 6, Batch: 100, Avg. Loss: 0.4709080308675766\n",
      "Epoch: 6, Batch: 110, Avg. Loss: 0.4542371541261673\n",
      "Epoch: 6, Batch: 120, Avg. Loss: 0.4647612154483795\n",
      "Epoch: 6, Batch: 130, Avg. Loss: 0.46988466680049895\n",
      "Epoch: 6, Batch: 140, Avg. Loss: 0.45537951588630676\n",
      "Epoch: 6, Batch: 150, Avg. Loss: 0.46727484464645386\n",
      "Epoch: 6, Batch: 160, Avg. Loss: 0.464680889248848\n",
      "Epoch: 6, Batch: 170, Avg. Loss: 0.466282120347023\n",
      "Epoch: 6, Batch: 180, Avg. Loss: 0.46161430776119233\n",
      "Epoch: 6, Batch: 190, Avg. Loss: 0.4578036963939667\n",
      "Epoch: 6, Batch: 200, Avg. Loss: 0.45460672974586486\n",
      "Epoch: 6, Batch: 210, Avg. Loss: 0.46540957391262056\n",
      "Epoch: 6, Batch: 220, Avg. Loss: 0.4448838859796524\n",
      "Epoch: 6, Batch: 230, Avg. Loss: 0.4532788902521133\n",
      "Epoch: 6, Batch: 240, Avg. Loss: 0.4665083587169647\n",
      "Epoch: 6, Batch: 250, Avg. Loss: 0.47711221575737\n",
      "Epoch: 6, Batch: 260, Avg. Loss: 0.46945372223854065\n",
      "Epoch: 6, Batch: 270, Avg. Loss: 0.4623837172985077\n",
      "Epoch: 6, Batch: 280, Avg. Loss: 0.4352186620235443\n",
      "Epoch: 6, Batch: 290, Avg. Loss: 0.47638075053691864\n",
      "Epoch: 6, Batch: 300, Avg. Loss: 0.47192228138446807\n",
      "Epoch: 6, Batch: 310, Avg. Loss: 0.4775747448205948\n",
      "Epoch: 6, Batch: 320, Avg. Loss: 0.47037124037742617\n",
      "Epoch: 6, Batch: 330, Avg. Loss: 0.4696842163801193\n",
      "Epoch: 6, Batch: 340, Avg. Loss: 0.4613438963890076\n"
     ]
    },
    {
     "name": "stderr",
     "output_type": "stream",
     "text": [
      "/home/workspace/data_load.py:39: FutureWarning: Method .as_matrix will be removed in a future version. Use .values instead.\n",
      "  key_pts = self.key_pts_frame.iloc[idx, 1:].as_matrix()\n",
      "/home/workspace/data_load.py:39: FutureWarning: Method .as_matrix will be removed in a future version. Use .values instead.\n",
      "  key_pts = self.key_pts_frame.iloc[idx, 1:].as_matrix()\n",
      "/home/workspace/data_load.py:39: FutureWarning: Method .as_matrix will be removed in a future version. Use .values instead.\n",
      "  key_pts = self.key_pts_frame.iloc[idx, 1:].as_matrix()\n",
      "/home/workspace/data_load.py:39: FutureWarning: Method .as_matrix will be removed in a future version. Use .values instead.\n",
      "  key_pts = self.key_pts_frame.iloc[idx, 1:].as_matrix()\n"
     ]
    },
    {
     "name": "stdout",
     "output_type": "stream",
     "text": [
      "Epoch: 7, Batch: 10, Avg. Loss: 0.4494707018136978\n",
      "Epoch: 7, Batch: 20, Avg. Loss: 0.44934177696704863\n",
      "Epoch: 7, Batch: 30, Avg. Loss: 0.4781216114759445\n",
      "Epoch: 7, Batch: 40, Avg. Loss: 0.4525086432695389\n",
      "Epoch: 7, Batch: 50, Avg. Loss: 0.46322937607765197\n",
      "Epoch: 7, Batch: 60, Avg. Loss: 0.4665704250335693\n",
      "Epoch: 7, Batch: 70, Avg. Loss: 0.4553228884935379\n",
      "Epoch: 7, Batch: 80, Avg. Loss: 0.4474050849676132\n",
      "Epoch: 7, Batch: 90, Avg. Loss: 0.4522625833749771\n",
      "Epoch: 7, Batch: 100, Avg. Loss: 0.4547368258237839\n",
      "Epoch: 7, Batch: 110, Avg. Loss: 0.4705726742744446\n",
      "Epoch: 7, Batch: 120, Avg. Loss: 0.4663941353559494\n",
      "Epoch: 7, Batch: 130, Avg. Loss: 0.46475506722927096\n",
      "Epoch: 7, Batch: 140, Avg. Loss: 0.4725493848323822\n",
      "Epoch: 7, Batch: 150, Avg. Loss: 0.4728739857673645\n",
      "Epoch: 7, Batch: 160, Avg. Loss: 0.4475055724382401\n",
      "Epoch: 7, Batch: 170, Avg. Loss: 0.4775215119123459\n",
      "Epoch: 7, Batch: 180, Avg. Loss: 0.4769444286823273\n",
      "Epoch: 7, Batch: 190, Avg. Loss: 0.4667478442192078\n",
      "Epoch: 7, Batch: 200, Avg. Loss: 0.4517852395772934\n",
      "Epoch: 7, Batch: 210, Avg. Loss: 0.46401644349098203\n",
      "Epoch: 7, Batch: 220, Avg. Loss: 0.47145129144191744\n",
      "Epoch: 7, Batch: 230, Avg. Loss: 0.46379515528678894\n",
      "Epoch: 7, Batch: 240, Avg. Loss: 0.46040967106819153\n",
      "Epoch: 7, Batch: 250, Avg. Loss: 0.46138744950294497\n",
      "Epoch: 7, Batch: 260, Avg. Loss: 0.46851823925971986\n",
      "Epoch: 7, Batch: 270, Avg. Loss: 0.4611289858818054\n",
      "Epoch: 7, Batch: 280, Avg. Loss: 0.46260724663734437\n",
      "Epoch: 7, Batch: 290, Avg. Loss: 0.46796060502529147\n",
      "Epoch: 7, Batch: 300, Avg. Loss: 0.47419559955596924\n",
      "Epoch: 7, Batch: 310, Avg. Loss: 0.4608158528804779\n",
      "Epoch: 7, Batch: 320, Avg. Loss: 0.4710443615913391\n",
      "Epoch: 7, Batch: 330, Avg. Loss: 0.4384363770484924\n",
      "Epoch: 7, Batch: 340, Avg. Loss: 0.4674586057662964\n"
     ]
    },
    {
     "name": "stderr",
     "output_type": "stream",
     "text": [
      "/home/workspace/data_load.py:39: FutureWarning: Method .as_matrix will be removed in a future version. Use .values instead.\n",
      "  key_pts = self.key_pts_frame.iloc[idx, 1:].as_matrix()\n",
      "/home/workspace/data_load.py:39: FutureWarning: Method .as_matrix will be removed in a future version. Use .values instead.\n",
      "  key_pts = self.key_pts_frame.iloc[idx, 1:].as_matrix()\n",
      "/home/workspace/data_load.py:39: FutureWarning: Method .as_matrix will be removed in a future version. Use .values instead.\n",
      "  key_pts = self.key_pts_frame.iloc[idx, 1:].as_matrix()\n",
      "/home/workspace/data_load.py:39: FutureWarning: Method .as_matrix will be removed in a future version. Use .values instead.\n",
      "  key_pts = self.key_pts_frame.iloc[idx, 1:].as_matrix()\n"
     ]
    },
    {
     "name": "stdout",
     "output_type": "stream",
     "text": [
      "Epoch: 8, Batch: 10, Avg. Loss: 0.4885114669799805\n",
      "Epoch: 8, Batch: 20, Avg. Loss: 0.47390118837356565\n",
      "Epoch: 8, Batch: 30, Avg. Loss: 0.4632889062166214\n",
      "Epoch: 8, Batch: 40, Avg. Loss: 0.4606220364570618\n",
      "Epoch: 8, Batch: 50, Avg. Loss: 0.4702950894832611\n",
      "Epoch: 8, Batch: 60, Avg. Loss: 0.4649080395698547\n",
      "Epoch: 8, Batch: 70, Avg. Loss: 0.4610814869403839\n",
      "Epoch: 8, Batch: 80, Avg. Loss: 0.46047611236572267\n",
      "Epoch: 8, Batch: 90, Avg. Loss: 0.46084203720092776\n",
      "Epoch: 8, Batch: 100, Avg. Loss: 0.4628815919160843\n",
      "Epoch: 8, Batch: 110, Avg. Loss: 0.4691977173089981\n",
      "Epoch: 8, Batch: 120, Avg. Loss: 0.45433267652988435\n",
      "Epoch: 8, Batch: 130, Avg. Loss: 0.45955761075019835\n",
      "Epoch: 8, Batch: 140, Avg. Loss: 0.44154172837734224\n",
      "Epoch: 8, Batch: 150, Avg. Loss: 0.4680653363466263\n",
      "Epoch: 8, Batch: 160, Avg. Loss: 0.4761722356081009\n",
      "Epoch: 8, Batch: 170, Avg. Loss: 0.47297299206256865\n",
      "Epoch: 8, Batch: 180, Avg. Loss: 0.4567348092794418\n",
      "Epoch: 8, Batch: 190, Avg. Loss: 0.46670240759849546\n",
      "Epoch: 8, Batch: 200, Avg. Loss: 0.4531907707452774\n",
      "Epoch: 8, Batch: 210, Avg. Loss: 0.4646420985460281\n",
      "Epoch: 8, Batch: 220, Avg. Loss: 0.45054071247577665\n",
      "Epoch: 8, Batch: 230, Avg. Loss: 0.448427277803421\n",
      "Epoch: 8, Batch: 240, Avg. Loss: 0.45702534914016724\n",
      "Epoch: 8, Batch: 250, Avg. Loss: 0.4745870351791382\n",
      "Epoch: 8, Batch: 260, Avg. Loss: 0.45772930681705476\n",
      "Epoch: 8, Batch: 270, Avg. Loss: 0.46859046518802644\n",
      "Epoch: 8, Batch: 280, Avg. Loss: 0.46057172417640685\n",
      "Epoch: 8, Batch: 290, Avg. Loss: 0.4443711429834366\n",
      "Epoch: 8, Batch: 300, Avg. Loss: 0.4538486212491989\n",
      "Epoch: 8, Batch: 310, Avg. Loss: 0.4665699601173401\n",
      "Epoch: 8, Batch: 320, Avg. Loss: 0.4729836702346802\n",
      "Epoch: 8, Batch: 330, Avg. Loss: 0.4550216346979141\n",
      "Epoch: 8, Batch: 340, Avg. Loss: 0.46664568185806277\n"
     ]
    },
    {
     "name": "stderr",
     "output_type": "stream",
     "text": [
      "/home/workspace/data_load.py:39: FutureWarning: Method .as_matrix will be removed in a future version. Use .values instead.\n",
      "  key_pts = self.key_pts_frame.iloc[idx, 1:].as_matrix()\n",
      "/home/workspace/data_load.py:39: FutureWarning: Method .as_matrix will be removed in a future version. Use .values instead.\n",
      "  key_pts = self.key_pts_frame.iloc[idx, 1:].as_matrix()\n",
      "/home/workspace/data_load.py:39: FutureWarning: Method .as_matrix will be removed in a future version. Use .values instead.\n",
      "  key_pts = self.key_pts_frame.iloc[idx, 1:].as_matrix()\n",
      "/home/workspace/data_load.py:39: FutureWarning: Method .as_matrix will be removed in a future version. Use .values instead.\n",
      "  key_pts = self.key_pts_frame.iloc[idx, 1:].as_matrix()\n"
     ]
    },
    {
     "name": "stdout",
     "output_type": "stream",
     "text": [
      "Epoch: 9, Batch: 10, Avg. Loss: 0.43526693284511564\n",
      "Epoch: 9, Batch: 20, Avg. Loss: 0.4708498239517212\n",
      "Epoch: 9, Batch: 30, Avg. Loss: 0.46483595073223116\n",
      "Epoch: 9, Batch: 40, Avg. Loss: 0.4707276999950409\n",
      "Epoch: 9, Batch: 50, Avg. Loss: 0.45406655967235565\n",
      "Epoch: 9, Batch: 60, Avg. Loss: 0.4703139215707779\n",
      "Epoch: 9, Batch: 70, Avg. Loss: 0.45881942808628084\n",
      "Epoch: 9, Batch: 80, Avg. Loss: 0.46563253700733187\n",
      "Epoch: 9, Batch: 90, Avg. Loss: 0.45247394442558286\n",
      "Epoch: 9, Batch: 100, Avg. Loss: 0.46763977110385896\n",
      "Epoch: 9, Batch: 110, Avg. Loss: 0.4660148799419403\n",
      "Epoch: 9, Batch: 120, Avg. Loss: 0.4651770681142807\n",
      "Epoch: 9, Batch: 130, Avg. Loss: 0.4621763527393341\n",
      "Epoch: 9, Batch: 140, Avg. Loss: 0.48581407964229584\n",
      "Epoch: 9, Batch: 150, Avg. Loss: 0.46163892149925234\n",
      "Epoch: 9, Batch: 160, Avg. Loss: 0.4638496160507202\n",
      "Epoch: 9, Batch: 170, Avg. Loss: 0.4670043021440506\n",
      "Epoch: 9, Batch: 180, Avg. Loss: 0.4611780971288681\n",
      "Epoch: 9, Batch: 190, Avg. Loss: 0.46690845787525176\n",
      "Epoch: 9, Batch: 200, Avg. Loss: 0.4493719398975372\n",
      "Epoch: 9, Batch: 210, Avg. Loss: 0.4622217923402786\n",
      "Epoch: 9, Batch: 220, Avg. Loss: 0.4728460669517517\n",
      "Epoch: 9, Batch: 230, Avg. Loss: 0.4553272992372513\n",
      "Epoch: 9, Batch: 240, Avg. Loss: 0.44180285930633545\n",
      "Epoch: 9, Batch: 250, Avg. Loss: 0.4612133026123047\n",
      "Epoch: 9, Batch: 260, Avg. Loss: 0.4561592608690262\n"
     ]
    },
    {
     "name": "stderr",
     "output_type": "stream",
     "text": [
      "Process Process-40:\n",
      "Process Process-39:\n",
      "Process Process-37:\n",
      "Process Process-38:\n",
      "Traceback (most recent call last):\n",
      "  File \"/opt/conda/lib/python3.6/multiprocessing/process.py\", line 258, in _bootstrap\n",
      "    self.run()\n",
      "Traceback (most recent call last):\n",
      "  File \"/opt/conda/lib/python3.6/multiprocessing/process.py\", line 93, in run\n",
      "    self._target(*self._args, **self._kwargs)\n",
      "Traceback (most recent call last):\n",
      "Traceback (most recent call last):\n",
      "  File \"/opt/conda/lib/python3.6/multiprocessing/process.py\", line 258, in _bootstrap\n",
      "    self.run()\n",
      "  File \"/opt/conda/lib/python3.6/multiprocessing/process.py\", line 258, in _bootstrap\n",
      "    self.run()\n",
      "  File \"/opt/conda/lib/python3.6/multiprocessing/process.py\", line 258, in _bootstrap\n",
      "    self.run()\n",
      "  File \"/opt/conda/lib/python3.6/site-packages/torch/utils/data/dataloader.py\", line 52, in _worker_loop\n",
      "    r = index_queue.get()\n",
      "  File \"/opt/conda/lib/python3.6/multiprocessing/process.py\", line 93, in run\n",
      "    self._target(*self._args, **self._kwargs)\n",
      "  File \"/opt/conda/lib/python3.6/multiprocessing/process.py\", line 93, in run\n",
      "    self._target(*self._args, **self._kwargs)\n",
      "  File \"/opt/conda/lib/python3.6/site-packages/torch/utils/data/dataloader.py\", line 52, in _worker_loop\n",
      "    r = index_queue.get()\n",
      "  File \"/opt/conda/lib/python3.6/site-packages/torch/utils/data/dataloader.py\", line 52, in _worker_loop\n",
      "    r = index_queue.get()\n",
      "  File \"/opt/conda/lib/python3.6/multiprocessing/process.py\", line 93, in run\n",
      "    self._target(*self._args, **self._kwargs)\n",
      "  File \"/opt/conda/lib/python3.6/multiprocessing/queues.py\", line 335, in get\n",
      "    res = self._reader.recv_bytes()\n",
      "  File \"/opt/conda/lib/python3.6/site-packages/torch/utils/data/dataloader.py\", line 52, in _worker_loop\n",
      "    r = index_queue.get()\n",
      "  File \"/opt/conda/lib/python3.6/multiprocessing/queues.py\", line 335, in get\n",
      "    res = self._reader.recv_bytes()\n",
      "  File \"/opt/conda/lib/python3.6/multiprocessing/queues.py\", line 335, in get\n",
      "    res = self._reader.recv_bytes()\n",
      "  File \"/opt/conda/lib/python3.6/multiprocessing/queues.py\", line 335, in get\n",
      "    res = self._reader.recv_bytes()\n",
      "  File \"/opt/conda/lib/python3.6/multiprocessing/connection.py\", line 216, in recv_bytes\n",
      "    buf = self._recv_bytes(maxlength)\n",
      "  File \"/opt/conda/lib/python3.6/multiprocessing/connection.py\", line 216, in recv_bytes\n",
      "    buf = self._recv_bytes(maxlength)\n",
      "  File \"/opt/conda/lib/python3.6/multiprocessing/connection.py\", line 216, in recv_bytes\n",
      "    buf = self._recv_bytes(maxlength)\n",
      "  File \"/opt/conda/lib/python3.6/multiprocessing/connection.py\", line 407, in _recv_bytes\n",
      "    buf = self._recv(4)\n",
      "  File \"/opt/conda/lib/python3.6/multiprocessing/connection.py\", line 216, in recv_bytes\n",
      "    buf = self._recv_bytes(maxlength)\n",
      "  File \"/opt/conda/lib/python3.6/multiprocessing/connection.py\", line 407, in _recv_bytes\n",
      "    buf = self._recv(4)\n",
      "  File \"/opt/conda/lib/python3.6/multiprocessing/connection.py\", line 379, in _recv\n",
      "    chunk = read(handle, remaining)\n",
      "KeyboardInterrupt\n",
      "  File \"/opt/conda/lib/python3.6/multiprocessing/connection.py\", line 379, in _recv\n",
      "    chunk = read(handle, remaining)\n",
      "  File \"/opt/conda/lib/python3.6/multiprocessing/connection.py\", line 407, in _recv_bytes\n",
      "    buf = self._recv(4)\n",
      "  File \"/opt/conda/lib/python3.6/multiprocessing/connection.py\", line 407, in _recv_bytes\n",
      "    buf = self._recv(4)\n",
      "KeyboardInterrupt\n",
      "  File \"/opt/conda/lib/python3.6/multiprocessing/connection.py\", line 379, in _recv\n",
      "    chunk = read(handle, remaining)\n",
      "  File \"/opt/conda/lib/python3.6/multiprocessing/connection.py\", line 379, in _recv\n",
      "    chunk = read(handle, remaining)\n",
      "KeyboardInterrupt\n",
      "KeyboardInterrupt\n",
      "Exception ignored in: <bound method _DataLoaderIter.__del__ of <torch.utils.data.dataloader._DataLoaderIter object at 0x7facb55b14a8>>\n",
      "Traceback (most recent call last):\n",
      "  File \"/opt/conda/lib/python3.6/site-packages/torch/utils/data/dataloader.py\", line 347, in __del__\n",
      "    def __del__(self):\n",
      "  File \"/opt/conda/lib/python3.6/site-packages/torch/utils/data/dataloader.py\", line 178, in handler\n",
      "    _error_if_any_worker_fails()\n",
      "RuntimeError: DataLoader worker (pid 655) exited unexpectedly with exit code 1.\n"
     ]
    },
    {
     "ename": "KeyboardInterrupt",
     "evalue": "",
     "output_type": "error",
     "traceback": [
      "\u001b[0;31m---------------------------------------------------------------------------\u001b[0m",
      "\u001b[0;31mKeyboardInterrupt\u001b[0m                         Traceback (most recent call last)",
      "\u001b[0;32m<ipython-input-15-8a760058797b>\u001b[0m in \u001b[0;36m<module>\u001b[0;34m()\u001b[0m\n\u001b[1;32m      5\u001b[0m \u001b[0;31m# alive while training your model, not part of pytorch\u001b[0m\u001b[0;34m\u001b[0m\u001b[0;34m\u001b[0m\u001b[0m\n\u001b[1;32m      6\u001b[0m \u001b[0;32mwith\u001b[0m \u001b[0mactive_session\u001b[0m\u001b[0;34m(\u001b[0m\u001b[0;34m)\u001b[0m\u001b[0;34m:\u001b[0m\u001b[0;34m\u001b[0m\u001b[0m\n\u001b[0;32m----> 7\u001b[0;31m     \u001b[0mtrain_net\u001b[0m\u001b[0;34m(\u001b[0m\u001b[0mn_epochs\u001b[0m\u001b[0;34m)\u001b[0m\u001b[0;34m\u001b[0m\u001b[0m\n\u001b[0m",
      "\u001b[0;32m<ipython-input-14-643bdf836f03>\u001b[0m in \u001b[0;36mtrain_net\u001b[0;34m(n_epochs)\u001b[0m\n\u001b[1;32m     31\u001b[0m \u001b[0;34m\u001b[0m\u001b[0m\n\u001b[1;32m     32\u001b[0m             \u001b[0;31m# backward pass to calculate the weight gradients\u001b[0m\u001b[0;34m\u001b[0m\u001b[0;34m\u001b[0m\u001b[0m\n\u001b[0;32m---> 33\u001b[0;31m             \u001b[0mloss\u001b[0m\u001b[0;34m.\u001b[0m\u001b[0mbackward\u001b[0m\u001b[0;34m(\u001b[0m\u001b[0;34m)\u001b[0m\u001b[0;34m\u001b[0m\u001b[0m\n\u001b[0m\u001b[1;32m     34\u001b[0m \u001b[0;34m\u001b[0m\u001b[0m\n\u001b[1;32m     35\u001b[0m             \u001b[0;31m# update the weights\u001b[0m\u001b[0;34m\u001b[0m\u001b[0;34m\u001b[0m\u001b[0m\n",
      "\u001b[0;32m/opt/conda/lib/python3.6/site-packages/torch/tensor.py\u001b[0m in \u001b[0;36mbackward\u001b[0;34m(self, gradient, retain_graph, create_graph)\u001b[0m\n\u001b[1;32m     91\u001b[0m                 \u001b[0mproducts\u001b[0m\u001b[0;34m.\u001b[0m \u001b[0mDefaults\u001b[0m \u001b[0mto\u001b[0m\u001b[0;31m \u001b[0m\u001b[0;31m`\u001b[0m\u001b[0;31m`\u001b[0m\u001b[0;32mFalse\u001b[0m\u001b[0;31m`\u001b[0m\u001b[0;31m`\u001b[0m\u001b[0;34m.\u001b[0m\u001b[0;34m\u001b[0m\u001b[0m\n\u001b[1;32m     92\u001b[0m         \"\"\"\n\u001b[0;32m---> 93\u001b[0;31m         \u001b[0mtorch\u001b[0m\u001b[0;34m.\u001b[0m\u001b[0mautograd\u001b[0m\u001b[0;34m.\u001b[0m\u001b[0mbackward\u001b[0m\u001b[0;34m(\u001b[0m\u001b[0mself\u001b[0m\u001b[0;34m,\u001b[0m \u001b[0mgradient\u001b[0m\u001b[0;34m,\u001b[0m \u001b[0mretain_graph\u001b[0m\u001b[0;34m,\u001b[0m \u001b[0mcreate_graph\u001b[0m\u001b[0;34m)\u001b[0m\u001b[0;34m\u001b[0m\u001b[0m\n\u001b[0m\u001b[1;32m     94\u001b[0m \u001b[0;34m\u001b[0m\u001b[0m\n\u001b[1;32m     95\u001b[0m     \u001b[0;32mdef\u001b[0m \u001b[0mregister_hook\u001b[0m\u001b[0;34m(\u001b[0m\u001b[0mself\u001b[0m\u001b[0;34m,\u001b[0m \u001b[0mhook\u001b[0m\u001b[0;34m)\u001b[0m\u001b[0;34m:\u001b[0m\u001b[0;34m\u001b[0m\u001b[0m\n",
      "\u001b[0;32m/opt/conda/lib/python3.6/site-packages/torch/autograd/__init__.py\u001b[0m in \u001b[0;36mbackward\u001b[0;34m(tensors, grad_tensors, retain_graph, create_graph, grad_variables)\u001b[0m\n\u001b[1;32m     87\u001b[0m     Variable._execution_engine.run_backward(\n\u001b[1;32m     88\u001b[0m         \u001b[0mtensors\u001b[0m\u001b[0;34m,\u001b[0m \u001b[0mgrad_tensors\u001b[0m\u001b[0;34m,\u001b[0m \u001b[0mretain_graph\u001b[0m\u001b[0;34m,\u001b[0m \u001b[0mcreate_graph\u001b[0m\u001b[0;34m,\u001b[0m\u001b[0;34m\u001b[0m\u001b[0m\n\u001b[0;32m---> 89\u001b[0;31m         allow_unreachable=True)  # allow_unreachable flag\n\u001b[0m\u001b[1;32m     90\u001b[0m \u001b[0;34m\u001b[0m\u001b[0m\n\u001b[1;32m     91\u001b[0m \u001b[0;34m\u001b[0m\u001b[0m\n",
      "\u001b[0;31mKeyboardInterrupt\u001b[0m: "
     ]
    }
   ],
   "source": [
    "# train your network\n",
    "n_epochs = 10 # start small, and increase when you've decided on your model structure and hyperparams\n",
    "\n",
    "# this is a Workspaces-specific context manager to keep the connection\n",
    "# alive while training your model, not part of pytorch\n",
    "with active_session():\n",
    "    train_net(n_epochs)"
   ]
  },
  {
   "cell_type": "markdown",
   "metadata": {},
   "source": [
    "## Test data\n",
    "\n",
    "See how your model performs on previously unseen, test data. We've already loaded and transformed this data, similar to the training data. Next, run your trained model on these images to see what kind of keypoints are produced. You should be able to see if your model is fitting each new face it sees, if the points are distributed randomly, or if the points have actually overfitted the training data and do not generalize."
   ]
  },
  {
   "cell_type": "code",
   "execution_count": null,
   "metadata": {},
   "outputs": [],
   "source": [
    "# get a sample of test data again\n",
    "test_images, test_outputs, gt_pts = net_sample_output()\n",
    "\n",
    "print(test_images.data.size())\n",
    "print(test_outputs.data.size())\n",
    "print(gt_pts.size())"
   ]
  },
  {
   "cell_type": "code",
   "execution_count": null,
   "metadata": {},
   "outputs": [],
   "source": [
    "## TODO: visualize your test output\n",
    "# you can use the same function as before, by un-commenting the line below:\n",
    "\n",
    "visualize_output(test_images, test_outputs, gt_pts)\n"
   ]
  },
  {
   "cell_type": "markdown",
   "metadata": {},
   "source": [
    "Once you've found a good model (or two), save your model so you can load it and use it later!\n",
    "\n",
    "Save your models but please **delete any checkpoints and saved models before you submit your project** otherwise your workspace may be too large to submit."
   ]
  },
  {
   "cell_type": "code",
   "execution_count": null,
   "metadata": {},
   "outputs": [],
   "source": [
    "## TODO: change the name to something uniqe for each new model\n",
    "model_dir = 'saved_models/'\n",
    "model_name = 'keypoints_model_2.pt'\n",
    "\n",
    "# after training, save your model parameters in the dir 'saved_models'\n",
    "torch.save(net.state_dict(), model_dir+model_name)"
   ]
  },
  {
   "cell_type": "markdown",
   "metadata": {},
   "source": [
    "After you've trained a well-performing model, answer the following questions so that we have some insight into your training and architecture selection process. Answering all questions is required to pass this project."
   ]
  },
  {
   "cell_type": "markdown",
   "metadata": {},
   "source": [
    "### Question 1: What optimization and loss functions did you choose and why?\n"
   ]
  },
  {
   "cell_type": "markdown",
   "metadata": {},
   "source": [
    "**Answer**: I used Adam with a learning rate of 0.005 because it is a good optimization function with a lower learning rate, giving it a small step size, and Mean Square Error because it tells me the average error of the CNN."
   ]
  },
  {
   "cell_type": "markdown",
   "metadata": {},
   "source": [
    "### Question 2: What kind of network architecture did you start with and how did it change as you tried different architectures? Did you decide to add more convolutional layers or any layers to avoid overfitting the data?"
   ]
  },
  {
   "cell_type": "markdown",
   "metadata": {},
   "source": [
    "**Answer**: I started with a few convolutional and max-pooling layers that extract features. Then, I flattened the features and used a dense network to find the output. I added dropout to avoid overfitting, and I changed the architecture by increasing the number of layers being used.  "
   ]
  },
  {
   "cell_type": "markdown",
   "metadata": {},
   "source": [
    "### Question 3: How did you decide on the number of epochs and batch_size to train your model?"
   ]
  },
  {
   "cell_type": "markdown",
   "metadata": {},
   "source": [
    "**Answer**: I saw that once the number of epochs hit a certain number, the loss wasn't decreasing and stabilized at 0.03-0.04. Also, I kept the batch_size to what was recommended, 10."
   ]
  },
  {
   "cell_type": "markdown",
   "metadata": {},
   "source": [
    "## Feature Visualization\n",
    "\n",
    "Sometimes, neural networks are thought of as a black box, given some input, they learn to produce some output. CNN's are actually learning to recognize a variety of spatial patterns and you can visualize what each convolutional layer has been trained to recognize by looking at the weights that make up each convolutional kernel and applying those one at a time to a sample image. This technique is called feature visualization and it's useful for understanding the inner workings of a CNN."
   ]
  },
  {
   "cell_type": "markdown",
   "metadata": {},
   "source": [
    "In the cell below, you can see how to extract a single filter (by index) from your first convolutional layer. The filter should appear as a grayscale grid."
   ]
  },
  {
   "cell_type": "code",
   "execution_count": null,
   "metadata": {},
   "outputs": [],
   "source": [
    "# Get the weights in the first conv layer, \"conv1\"\n",
    "# if necessary, change this to reflect the name of your first conv layer\n",
    "weights1 = net.conv1.weight.data\n",
    "\n",
    "w = weights1.numpy()\n",
    "\n",
    "filter_index = 0\n",
    "\n",
    "print(w[filter_index][0])\n",
    "print(w[filter_index][0].shape)\n",
    "\n",
    "# display the filter weights\n",
    "plt.imshow(w[filter_index][0], cmap='gray')\n"
   ]
  },
  {
   "cell_type": "markdown",
   "metadata": {},
   "source": [
    "## Feature maps\n",
    "\n",
    "Each CNN has at least one convolutional layer that is composed of stacked filters (also known as convolutional kernels). As a CNN trains, it learns what weights to include in it's convolutional kernels and when these kernels are applied to some input image, they produce a set of **feature maps**. So, feature maps are just sets of filtered images; they are the images produced by applying a convolutional kernel to an input image. These maps show us the features that the different layers of the neural network learn to extract. For example, you might imagine a convolutional kernel that detects the vertical edges of a face or another one that detects the corners of eyes. You can see what kind of features each of these kernels detects by applying them to an image. One such example is shown below; from the way it brings out the lines in an the image, you might characterize this as an edge detection filter.\n",
    "\n",
    "<img src='images/feature_map_ex.png' width=50% height=50%/>\n",
    "\n",
    "\n",
    "Next, choose a test image and filter it with one of the convolutional kernels in your trained CNN; look at the filtered output to get an idea what that particular kernel detects.\n",
    "\n",
    "### TODO: Filter an image to see the effect of a convolutional kernel\n",
    "---"
   ]
  },
  {
   "cell_type": "code",
   "execution_count": null,
   "metadata": {},
   "outputs": [],
   "source": [
    "##TODO: load in and display any image from the transformed test dataset\n",
    "\n",
    "## TODO: Using cv's filter2D function,\n",
    "## apply a specific set of filter weights (like the one displayed above) to the test image\n",
    "test_images, test_outputs, gt_pts = net_sample_output()\n",
    "\n",
    "import cv2\n",
    "\n",
    "img = test_images[0]\n",
    "img = img.data   # get the image from it's Variable wrapper\n",
    "img = img.numpy()   # convert to numpy array from a Tensor\n",
    "img = np.transpose(img, (1, 2, 0))   # transpose to go from torch to numpy image\n",
    "\n",
    "plt.imshow(np.squeeze(img), cmap='gray')\n",
    "\n",
    "weights = net.conv2.weight.data\n",
    "w = weights.numpy()\n",
    "\n",
    "# 1. first conv layer\n",
    "# for 32 filters\n",
    "fig=plt.figure(figsize=(30, 10))\n",
    "columns = 5*2\n",
    "rows = 2\n",
    "for i in range(0, columns*rows):\n",
    "    fig.add_subplot(rows, columns, i+1)\n",
    "    if ((i%2)==0):\n",
    "        plt.imshow(w[int(i/2)][0], cmap='gray')\n",
    "    else:\n",
    "        c = cv2.filter2D(img, -1, w[int((i-1)/2)][0])\n",
    "        plt.imshow(c, cmap='gray')\n",
    "plt.show()\n"
   ]
  },
  {
   "cell_type": "markdown",
   "metadata": {},
   "source": [
    "### Question 4: Choose one filter from your trained CNN and apply it to a test image; what purpose do you think it plays? What kind of feature do you think it detects?\n"
   ]
  },
  {
   "cell_type": "markdown",
   "metadata": {},
   "source": [
    "**Answer**: The filters from the second layer learn to detect the face of the person. "
   ]
  },
  {
   "cell_type": "markdown",
   "metadata": {},
   "source": [
    "---\n",
    "## Moving on!\n",
    "\n",
    "Now that you've defined and trained your model (and saved the best model), you are ready to move on to the last notebook, which combines a face detector with your saved model to create a facial keypoint detection system that can predict the keypoints on *any* face in an image!"
   ]
  }
 ],
 "metadata": {
  "kernelspec": {
   "display_name": "Python 3",
   "language": "python",
   "name": "python3"
  },
  "language_info": {
   "codemirror_mode": {
    "name": "ipython",
    "version": 3
   },
   "file_extension": ".py",
   "mimetype": "text/x-python",
   "name": "python",
   "nbconvert_exporter": "python",
   "pygments_lexer": "ipython3",
   "version": "3.6.3"
  }
 },
 "nbformat": 4,
 "nbformat_minor": 2
}
